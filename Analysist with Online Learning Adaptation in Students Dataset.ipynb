{
 "cells": [
  {
   "cell_type": "markdown",
   "id": "fc06cfa8",
   "metadata": {},
   "source": [
    "### Cases Study with Student Adaptability Level Online Education Datasets"
   ]
  },
  {
   "cell_type": "markdown",
   "id": "3749b30f",
   "metadata": {},
   "source": [
    "##### Burhanudin Yusuf Habibi\n"
   ]
  },
  {
   "cell_type": "code",
   "execution_count": 1,
   "id": "2613bb51",
   "metadata": {},
   "outputs": [],
   "source": [
    "import pandas as pd"
   ]
  },
  {
   "cell_type": "code",
   "execution_count": 2,
   "id": "4e43c022",
   "metadata": {},
   "outputs": [],
   "source": [
    "import numpy as np"
   ]
  },
  {
   "cell_type": "code",
   "execution_count": 3,
   "id": "159e63ca",
   "metadata": {},
   "outputs": [],
   "source": [
    "import matplotlib.pyplot as plt"
   ]
  },
  {
   "cell_type": "code",
   "execution_count": 4,
   "id": "c43587be",
   "metadata": {},
   "outputs": [],
   "source": [
    "import seaborn as sns"
   ]
  },
  {
   "cell_type": "code",
   "execution_count": 5,
   "id": "84f55554",
   "metadata": {},
   "outputs": [],
   "source": [
    "import warnings\n",
    "warnings.simplefilter(action=\"ignore\", category=FutureWarning)"
   ]
  },
  {
   "cell_type": "code",
   "execution_count": 6,
   "id": "afc0b64d",
   "metadata": {},
   "outputs": [
    {
     "data": {
      "text/html": [
       "<div>\n",
       "<style scoped>\n",
       "    .dataframe tbody tr th:only-of-type {\n",
       "        vertical-align: middle;\n",
       "    }\n",
       "\n",
       "    .dataframe tbody tr th {\n",
       "        vertical-align: top;\n",
       "    }\n",
       "\n",
       "    .dataframe thead th {\n",
       "        text-align: right;\n",
       "    }\n",
       "</style>\n",
       "<table border=\"1\" class=\"dataframe\">\n",
       "  <thead>\n",
       "    <tr style=\"text-align: right;\">\n",
       "      <th></th>\n",
       "      <th>Gender</th>\n",
       "      <th>Age</th>\n",
       "      <th>Education Level</th>\n",
       "      <th>Institution Type</th>\n",
       "      <th>IT Student</th>\n",
       "      <th>Location</th>\n",
       "      <th>Load-shedding</th>\n",
       "      <th>Financial Condition</th>\n",
       "      <th>Internet Type</th>\n",
       "      <th>Network Type</th>\n",
       "      <th>Class Duration</th>\n",
       "      <th>Self Lms</th>\n",
       "      <th>Device</th>\n",
       "      <th>Adaptivity Level</th>\n",
       "    </tr>\n",
       "  </thead>\n",
       "  <tbody>\n",
       "    <tr>\n",
       "      <th>0</th>\n",
       "      <td>Boy</td>\n",
       "      <td>21-25</td>\n",
       "      <td>University</td>\n",
       "      <td>Non Government</td>\n",
       "      <td>No</td>\n",
       "      <td>Yes</td>\n",
       "      <td>Low</td>\n",
       "      <td>Mid</td>\n",
       "      <td>Wifi</td>\n",
       "      <td>4G</td>\n",
       "      <td>3-6</td>\n",
       "      <td>No</td>\n",
       "      <td>Tab</td>\n",
       "      <td>Moderate</td>\n",
       "    </tr>\n",
       "    <tr>\n",
       "      <th>1</th>\n",
       "      <td>Girl</td>\n",
       "      <td>21-25</td>\n",
       "      <td>University</td>\n",
       "      <td>Non Government</td>\n",
       "      <td>No</td>\n",
       "      <td>Yes</td>\n",
       "      <td>High</td>\n",
       "      <td>Mid</td>\n",
       "      <td>Mobile Data</td>\n",
       "      <td>4G</td>\n",
       "      <td>1-3</td>\n",
       "      <td>Yes</td>\n",
       "      <td>Mobile</td>\n",
       "      <td>Moderate</td>\n",
       "    </tr>\n",
       "    <tr>\n",
       "      <th>2</th>\n",
       "      <td>Girl</td>\n",
       "      <td>16-20</td>\n",
       "      <td>College</td>\n",
       "      <td>Government</td>\n",
       "      <td>No</td>\n",
       "      <td>Yes</td>\n",
       "      <td>Low</td>\n",
       "      <td>Mid</td>\n",
       "      <td>Wifi</td>\n",
       "      <td>4G</td>\n",
       "      <td>1-3</td>\n",
       "      <td>No</td>\n",
       "      <td>Mobile</td>\n",
       "      <td>Moderate</td>\n",
       "    </tr>\n",
       "    <tr>\n",
       "      <th>3</th>\n",
       "      <td>Girl</td>\n",
       "      <td>11-15</td>\n",
       "      <td>School</td>\n",
       "      <td>Non Government</td>\n",
       "      <td>No</td>\n",
       "      <td>Yes</td>\n",
       "      <td>Low</td>\n",
       "      <td>Mid</td>\n",
       "      <td>Mobile Data</td>\n",
       "      <td>4G</td>\n",
       "      <td>1-3</td>\n",
       "      <td>No</td>\n",
       "      <td>Mobile</td>\n",
       "      <td>Moderate</td>\n",
       "    </tr>\n",
       "    <tr>\n",
       "      <th>4</th>\n",
       "      <td>Girl</td>\n",
       "      <td>16-20</td>\n",
       "      <td>School</td>\n",
       "      <td>Non Government</td>\n",
       "      <td>No</td>\n",
       "      <td>Yes</td>\n",
       "      <td>Low</td>\n",
       "      <td>Poor</td>\n",
       "      <td>Mobile Data</td>\n",
       "      <td>3G</td>\n",
       "      <td>0</td>\n",
       "      <td>No</td>\n",
       "      <td>Mobile</td>\n",
       "      <td>Low</td>\n",
       "    </tr>\n",
       "  </tbody>\n",
       "</table>\n",
       "</div>"
      ],
      "text/plain": [
       "  Gender    Age Education Level Institution Type IT Student Location  \\\n",
       "0    Boy  21-25      University   Non Government         No      Yes   \n",
       "1   Girl  21-25      University   Non Government         No      Yes   \n",
       "2   Girl  16-20         College       Government         No      Yes   \n",
       "3   Girl  11-15          School   Non Government         No      Yes   \n",
       "4   Girl  16-20          School   Non Government         No      Yes   \n",
       "\n",
       "  Load-shedding Financial Condition Internet Type Network Type Class Duration  \\\n",
       "0           Low                 Mid          Wifi           4G            3-6   \n",
       "1          High                 Mid   Mobile Data           4G            1-3   \n",
       "2           Low                 Mid          Wifi           4G            1-3   \n",
       "3           Low                 Mid   Mobile Data           4G            1-3   \n",
       "4           Low                Poor   Mobile Data           3G              0   \n",
       "\n",
       "  Self Lms  Device Adaptivity Level  \n",
       "0       No     Tab         Moderate  \n",
       "1      Yes  Mobile         Moderate  \n",
       "2       No  Mobile         Moderate  \n",
       "3       No  Mobile         Moderate  \n",
       "4       No  Mobile              Low  "
      ]
     },
     "execution_count": 6,
     "metadata": {},
     "output_type": "execute_result"
    }
   ],
   "source": [
    "df = pd.read_csv('students_adaptability_level_online_education.csv')\n",
    "\n",
    "df.head()"
   ]
  },
  {
   "cell_type": "markdown",
   "id": "7ecd2dc0",
   "metadata": {},
   "source": [
    "# "
   ]
  },
  {
   "cell_type": "markdown",
   "id": "44aa35ca",
   "metadata": {},
   "source": [
    "#### Check If There Is Blank Data "
   ]
  },
  {
   "cell_type": "code",
   "execution_count": 7,
   "id": "d5c59681",
   "metadata": {},
   "outputs": [
    {
     "data": {
      "text/plain": [
       "Gender                 0\n",
       "Age                    0\n",
       "Education Level        0\n",
       "Institution Type       0\n",
       "IT Student             0\n",
       "Location               0\n",
       "Load-shedding          0\n",
       "Financial Condition    0\n",
       "Internet Type          0\n",
       "Network Type           0\n",
       "Class Duration         0\n",
       "Self Lms               0\n",
       "Device                 0\n",
       "Adaptivity Level       0\n",
       "dtype: int64"
      ]
     },
     "execution_count": 7,
     "metadata": {},
     "output_type": "execute_result"
    }
   ],
   "source": [
    "df.isna().sum()"
   ]
  },
  {
   "cell_type": "markdown",
   "id": "b83ccb71",
   "metadata": {},
   "source": [
    "# "
   ]
  },
  {
   "cell_type": "markdown",
   "id": "f8185240",
   "metadata": {},
   "source": [
    "#### General Description of Data"
   ]
  },
  {
   "cell_type": "code",
   "execution_count": 8,
   "id": "c8ec7758",
   "metadata": {},
   "outputs": [
    {
     "data": {
      "text/html": [
       "<div>\n",
       "<style scoped>\n",
       "    .dataframe tbody tr th:only-of-type {\n",
       "        vertical-align: middle;\n",
       "    }\n",
       "\n",
       "    .dataframe tbody tr th {\n",
       "        vertical-align: top;\n",
       "    }\n",
       "\n",
       "    .dataframe thead th {\n",
       "        text-align: right;\n",
       "    }\n",
       "</style>\n",
       "<table border=\"1\" class=\"dataframe\">\n",
       "  <thead>\n",
       "    <tr style=\"text-align: right;\">\n",
       "      <th></th>\n",
       "      <th>Gender</th>\n",
       "      <th>Age</th>\n",
       "      <th>Education Level</th>\n",
       "      <th>Institution Type</th>\n",
       "      <th>IT Student</th>\n",
       "      <th>Location</th>\n",
       "      <th>Load-shedding</th>\n",
       "      <th>Financial Condition</th>\n",
       "      <th>Internet Type</th>\n",
       "      <th>Network Type</th>\n",
       "      <th>Class Duration</th>\n",
       "      <th>Self Lms</th>\n",
       "      <th>Device</th>\n",
       "      <th>Adaptivity Level</th>\n",
       "    </tr>\n",
       "  </thead>\n",
       "  <tbody>\n",
       "    <tr>\n",
       "      <th>count</th>\n",
       "      <td>1205</td>\n",
       "      <td>1205</td>\n",
       "      <td>1205</td>\n",
       "      <td>1205</td>\n",
       "      <td>1205</td>\n",
       "      <td>1205</td>\n",
       "      <td>1205</td>\n",
       "      <td>1205</td>\n",
       "      <td>1205</td>\n",
       "      <td>1205</td>\n",
       "      <td>1205</td>\n",
       "      <td>1205</td>\n",
       "      <td>1205</td>\n",
       "      <td>1205</td>\n",
       "    </tr>\n",
       "    <tr>\n",
       "      <th>unique</th>\n",
       "      <td>2</td>\n",
       "      <td>6</td>\n",
       "      <td>3</td>\n",
       "      <td>2</td>\n",
       "      <td>2</td>\n",
       "      <td>2</td>\n",
       "      <td>2</td>\n",
       "      <td>3</td>\n",
       "      <td>2</td>\n",
       "      <td>3</td>\n",
       "      <td>3</td>\n",
       "      <td>2</td>\n",
       "      <td>3</td>\n",
       "      <td>3</td>\n",
       "    </tr>\n",
       "    <tr>\n",
       "      <th>top</th>\n",
       "      <td>Boy</td>\n",
       "      <td>21-25</td>\n",
       "      <td>School</td>\n",
       "      <td>Non Government</td>\n",
       "      <td>No</td>\n",
       "      <td>Yes</td>\n",
       "      <td>Low</td>\n",
       "      <td>Mid</td>\n",
       "      <td>Mobile Data</td>\n",
       "      <td>4G</td>\n",
       "      <td>1-3</td>\n",
       "      <td>No</td>\n",
       "      <td>Mobile</td>\n",
       "      <td>Moderate</td>\n",
       "    </tr>\n",
       "    <tr>\n",
       "      <th>freq</th>\n",
       "      <td>663</td>\n",
       "      <td>374</td>\n",
       "      <td>530</td>\n",
       "      <td>823</td>\n",
       "      <td>901</td>\n",
       "      <td>935</td>\n",
       "      <td>1004</td>\n",
       "      <td>878</td>\n",
       "      <td>695</td>\n",
       "      <td>775</td>\n",
       "      <td>840</td>\n",
       "      <td>995</td>\n",
       "      <td>1013</td>\n",
       "      <td>625</td>\n",
       "    </tr>\n",
       "  </tbody>\n",
       "</table>\n",
       "</div>"
      ],
      "text/plain": [
       "       Gender    Age Education Level Institution Type IT Student Location  \\\n",
       "count    1205   1205            1205             1205       1205     1205   \n",
       "unique      2      6               3                2          2        2   \n",
       "top       Boy  21-25          School   Non Government         No      Yes   \n",
       "freq      663    374             530              823        901      935   \n",
       "\n",
       "       Load-shedding Financial Condition Internet Type Network Type  \\\n",
       "count           1205                1205          1205         1205   \n",
       "unique             2                   3             2            3   \n",
       "top              Low                 Mid   Mobile Data           4G   \n",
       "freq            1004                 878           695          775   \n",
       "\n",
       "       Class Duration Self Lms  Device Adaptivity Level  \n",
       "count            1205     1205    1205             1205  \n",
       "unique              3        2       3                3  \n",
       "top               1-3       No  Mobile         Moderate  \n",
       "freq              840      995    1013              625  "
      ]
     },
     "execution_count": 8,
     "metadata": {},
     "output_type": "execute_result"
    }
   ],
   "source": [
    "df.describe()"
   ]
  },
  {
   "cell_type": "code",
   "execution_count": 9,
   "id": "742d6f5e",
   "metadata": {},
   "outputs": [
    {
     "data": {
      "text/plain": [
       "Gender                 object\n",
       "Age                    object\n",
       "Education Level        object\n",
       "Institution Type       object\n",
       "IT Student             object\n",
       "Location               object\n",
       "Load-shedding          object\n",
       "Financial Condition    object\n",
       "Internet Type          object\n",
       "Network Type           object\n",
       "Class Duration         object\n",
       "Self Lms               object\n",
       "Device                 object\n",
       "Adaptivity Level       object\n",
       "dtype: object"
      ]
     },
     "execution_count": 9,
     "metadata": {},
     "output_type": "execute_result"
    }
   ],
   "source": [
    "df.dtypes"
   ]
  },
  {
   "cell_type": "markdown",
   "id": "aa0eecf6",
   "metadata": {},
   "source": [
    "# "
   ]
  },
  {
   "cell_type": "markdown",
   "id": "898780f9",
   "metadata": {},
   "source": [
    "####  Classification of Education Level in A New Variable"
   ]
  },
  {
   "cell_type": "code",
   "execution_count": 10,
   "id": "30e538f1",
   "metadata": {},
   "outputs": [
    {
     "data": {
      "text/plain": [
       "School        530\n",
       "University    456\n",
       "College       219\n",
       "Name: Education Level, dtype: int64"
      ]
     },
     "execution_count": 10,
     "metadata": {},
     "output_type": "execute_result"
    }
   ],
   "source": [
    "df['Education Level'].value_counts()"
   ]
  },
  {
   "cell_type": "code",
   "execution_count": 11,
   "id": "4536e7a5",
   "metadata": {},
   "outputs": [],
   "source": [
    "University = df[df[\"Education Level\"] == \"University\"]\n",
    "College = df[df[\"Education Level\"] == \"College\"]\n",
    "School = df[df[\"Education Level\"] == \"School\"]"
   ]
  },
  {
   "cell_type": "markdown",
   "id": "b7eb091d",
   "metadata": {},
   "source": [
    "##### University Education Level"
   ]
  },
  {
   "cell_type": "code",
   "execution_count": 12,
   "id": "157c2979",
   "metadata": {},
   "outputs": [
    {
     "data": {
      "text/html": [
       "<div>\n",
       "<style scoped>\n",
       "    .dataframe tbody tr th:only-of-type {\n",
       "        vertical-align: middle;\n",
       "    }\n",
       "\n",
       "    .dataframe tbody tr th {\n",
       "        vertical-align: top;\n",
       "    }\n",
       "\n",
       "    .dataframe thead th {\n",
       "        text-align: right;\n",
       "    }\n",
       "</style>\n",
       "<table border=\"1\" class=\"dataframe\">\n",
       "  <thead>\n",
       "    <tr style=\"text-align: right;\">\n",
       "      <th></th>\n",
       "      <th>Gender</th>\n",
       "      <th>Age</th>\n",
       "      <th>Education Level</th>\n",
       "      <th>Institution Type</th>\n",
       "      <th>IT Student</th>\n",
       "      <th>Location</th>\n",
       "      <th>Load-shedding</th>\n",
       "      <th>Financial Condition</th>\n",
       "      <th>Internet Type</th>\n",
       "      <th>Network Type</th>\n",
       "      <th>Class Duration</th>\n",
       "      <th>Self Lms</th>\n",
       "      <th>Device</th>\n",
       "      <th>Adaptivity Level</th>\n",
       "    </tr>\n",
       "  </thead>\n",
       "  <tbody>\n",
       "    <tr>\n",
       "      <th>count</th>\n",
       "      <td>456</td>\n",
       "      <td>456</td>\n",
       "      <td>456</td>\n",
       "      <td>456</td>\n",
       "      <td>456</td>\n",
       "      <td>456</td>\n",
       "      <td>456</td>\n",
       "      <td>456</td>\n",
       "      <td>456</td>\n",
       "      <td>456</td>\n",
       "      <td>456</td>\n",
       "      <td>456</td>\n",
       "      <td>456</td>\n",
       "      <td>456</td>\n",
       "    </tr>\n",
       "    <tr>\n",
       "      <th>unique</th>\n",
       "      <td>2</td>\n",
       "      <td>3</td>\n",
       "      <td>1</td>\n",
       "      <td>2</td>\n",
       "      <td>2</td>\n",
       "      <td>2</td>\n",
       "      <td>2</td>\n",
       "      <td>3</td>\n",
       "      <td>2</td>\n",
       "      <td>3</td>\n",
       "      <td>3</td>\n",
       "      <td>2</td>\n",
       "      <td>3</td>\n",
       "      <td>3</td>\n",
       "    </tr>\n",
       "    <tr>\n",
       "      <th>top</th>\n",
       "      <td>Boy</td>\n",
       "      <td>21-25</td>\n",
       "      <td>University</td>\n",
       "      <td>Non Government</td>\n",
       "      <td>Yes</td>\n",
       "      <td>Yes</td>\n",
       "      <td>Low</td>\n",
       "      <td>Mid</td>\n",
       "      <td>Wifi</td>\n",
       "      <td>4G</td>\n",
       "      <td>1-3</td>\n",
       "      <td>No</td>\n",
       "      <td>Mobile</td>\n",
       "      <td>Moderate</td>\n",
       "    </tr>\n",
       "    <tr>\n",
       "      <th>freq</th>\n",
       "      <td>304</td>\n",
       "      <td>352</td>\n",
       "      <td>456</td>\n",
       "      <td>301</td>\n",
       "      <td>247</td>\n",
       "      <td>330</td>\n",
       "      <td>352</td>\n",
       "      <td>342</td>\n",
       "      <td>255</td>\n",
       "      <td>299</td>\n",
       "      <td>241</td>\n",
       "      <td>278</td>\n",
       "      <td>287</td>\n",
       "      <td>228</td>\n",
       "    </tr>\n",
       "  </tbody>\n",
       "</table>\n",
       "</div>"
      ],
      "text/plain": [
       "       Gender    Age Education Level Institution Type IT Student Location  \\\n",
       "count     456    456             456              456        456      456   \n",
       "unique      2      3               1                2          2        2   \n",
       "top       Boy  21-25      University   Non Government        Yes      Yes   \n",
       "freq      304    352             456              301        247      330   \n",
       "\n",
       "       Load-shedding Financial Condition Internet Type Network Type  \\\n",
       "count            456                 456           456          456   \n",
       "unique             2                   3             2            3   \n",
       "top              Low                 Mid          Wifi           4G   \n",
       "freq             352                 342           255          299   \n",
       "\n",
       "       Class Duration Self Lms  Device Adaptivity Level  \n",
       "count             456      456     456              456  \n",
       "unique              3        2       3                3  \n",
       "top               1-3       No  Mobile         Moderate  \n",
       "freq              241      278     287              228  "
      ]
     },
     "execution_count": 12,
     "metadata": {},
     "output_type": "execute_result"
    }
   ],
   "source": [
    "University.describe()"
   ]
  },
  {
   "cell_type": "markdown",
   "id": "536530b4",
   "metadata": {},
   "source": [
    "##### College Education Level"
   ]
  },
  {
   "cell_type": "code",
   "execution_count": 13,
   "id": "e2b422b4",
   "metadata": {},
   "outputs": [
    {
     "data": {
      "text/html": [
       "<div>\n",
       "<style scoped>\n",
       "    .dataframe tbody tr th:only-of-type {\n",
       "        vertical-align: middle;\n",
       "    }\n",
       "\n",
       "    .dataframe tbody tr th {\n",
       "        vertical-align: top;\n",
       "    }\n",
       "\n",
       "    .dataframe thead th {\n",
       "        text-align: right;\n",
       "    }\n",
       "</style>\n",
       "<table border=\"1\" class=\"dataframe\">\n",
       "  <thead>\n",
       "    <tr style=\"text-align: right;\">\n",
       "      <th></th>\n",
       "      <th>Gender</th>\n",
       "      <th>Age</th>\n",
       "      <th>Education Level</th>\n",
       "      <th>Institution Type</th>\n",
       "      <th>IT Student</th>\n",
       "      <th>Location</th>\n",
       "      <th>Load-shedding</th>\n",
       "      <th>Financial Condition</th>\n",
       "      <th>Internet Type</th>\n",
       "      <th>Network Type</th>\n",
       "      <th>Class Duration</th>\n",
       "      <th>Self Lms</th>\n",
       "      <th>Device</th>\n",
       "      <th>Adaptivity Level</th>\n",
       "    </tr>\n",
       "  </thead>\n",
       "  <tbody>\n",
       "    <tr>\n",
       "      <th>count</th>\n",
       "      <td>219</td>\n",
       "      <td>219</td>\n",
       "      <td>219</td>\n",
       "      <td>219</td>\n",
       "      <td>219</td>\n",
       "      <td>219</td>\n",
       "      <td>219</td>\n",
       "      <td>219</td>\n",
       "      <td>219</td>\n",
       "      <td>219</td>\n",
       "      <td>219</td>\n",
       "      <td>219</td>\n",
       "      <td>219</td>\n",
       "      <td>219</td>\n",
       "    </tr>\n",
       "    <tr>\n",
       "      <th>unique</th>\n",
       "      <td>2</td>\n",
       "      <td>2</td>\n",
       "      <td>1</td>\n",
       "      <td>2</td>\n",
       "      <td>2</td>\n",
       "      <td>2</td>\n",
       "      <td>2</td>\n",
       "      <td>3</td>\n",
       "      <td>2</td>\n",
       "      <td>3</td>\n",
       "      <td>3</td>\n",
       "      <td>2</td>\n",
       "      <td>3</td>\n",
       "      <td>3</td>\n",
       "    </tr>\n",
       "    <tr>\n",
       "      <th>top</th>\n",
       "      <td>Girl</td>\n",
       "      <td>16-20</td>\n",
       "      <td>College</td>\n",
       "      <td>Government</td>\n",
       "      <td>No</td>\n",
       "      <td>Yes</td>\n",
       "      <td>Low</td>\n",
       "      <td>Mid</td>\n",
       "      <td>Wifi</td>\n",
       "      <td>4G</td>\n",
       "      <td>1-3</td>\n",
       "      <td>No</td>\n",
       "      <td>Mobile</td>\n",
       "      <td>Low</td>\n",
       "    </tr>\n",
       "    <tr>\n",
       "      <th>freq</th>\n",
       "      <td>131</td>\n",
       "      <td>197</td>\n",
       "      <td>219</td>\n",
       "      <td>127</td>\n",
       "      <td>189</td>\n",
       "      <td>123</td>\n",
       "      <td>153</td>\n",
       "      <td>200</td>\n",
       "      <td>120</td>\n",
       "      <td>165</td>\n",
       "      <td>150</td>\n",
       "      <td>190</td>\n",
       "      <td>209</td>\n",
       "      <td>120</td>\n",
       "    </tr>\n",
       "  </tbody>\n",
       "</table>\n",
       "</div>"
      ],
      "text/plain": [
       "       Gender    Age Education Level Institution Type IT Student Location  \\\n",
       "count     219    219             219              219        219      219   \n",
       "unique      2      2               1                2          2        2   \n",
       "top      Girl  16-20         College       Government         No      Yes   \n",
       "freq      131    197             219              127        189      123   \n",
       "\n",
       "       Load-shedding Financial Condition Internet Type Network Type  \\\n",
       "count            219                 219           219          219   \n",
       "unique             2                   3             2            3   \n",
       "top              Low                 Mid          Wifi           4G   \n",
       "freq             153                 200           120          165   \n",
       "\n",
       "       Class Duration Self Lms  Device Adaptivity Level  \n",
       "count             219      219     219              219  \n",
       "unique              3        2       3                3  \n",
       "top               1-3       No  Mobile              Low  \n",
       "freq              150      190     209              120  "
      ]
     },
     "execution_count": 13,
     "metadata": {},
     "output_type": "execute_result"
    }
   ],
   "source": [
    "College.describe()"
   ]
  },
  {
   "cell_type": "markdown",
   "id": "67fe6621",
   "metadata": {},
   "source": [
    "##### School Education Level"
   ]
  },
  {
   "cell_type": "code",
   "execution_count": 14,
   "id": "8c0180c7",
   "metadata": {},
   "outputs": [
    {
     "data": {
      "text/html": [
       "<div>\n",
       "<style scoped>\n",
       "    .dataframe tbody tr th:only-of-type {\n",
       "        vertical-align: middle;\n",
       "    }\n",
       "\n",
       "    .dataframe tbody tr th {\n",
       "        vertical-align: top;\n",
       "    }\n",
       "\n",
       "    .dataframe thead th {\n",
       "        text-align: right;\n",
       "    }\n",
       "</style>\n",
       "<table border=\"1\" class=\"dataframe\">\n",
       "  <thead>\n",
       "    <tr style=\"text-align: right;\">\n",
       "      <th></th>\n",
       "      <th>Gender</th>\n",
       "      <th>Age</th>\n",
       "      <th>Education Level</th>\n",
       "      <th>Institution Type</th>\n",
       "      <th>IT Student</th>\n",
       "      <th>Location</th>\n",
       "      <th>Load-shedding</th>\n",
       "      <th>Financial Condition</th>\n",
       "      <th>Internet Type</th>\n",
       "      <th>Network Type</th>\n",
       "      <th>Class Duration</th>\n",
       "      <th>Self Lms</th>\n",
       "      <th>Device</th>\n",
       "      <th>Adaptivity Level</th>\n",
       "    </tr>\n",
       "  </thead>\n",
       "  <tbody>\n",
       "    <tr>\n",
       "      <th>count</th>\n",
       "      <td>530</td>\n",
       "      <td>530</td>\n",
       "      <td>530</td>\n",
       "      <td>530</td>\n",
       "      <td>530</td>\n",
       "      <td>530</td>\n",
       "      <td>530</td>\n",
       "      <td>530</td>\n",
       "      <td>530</td>\n",
       "      <td>530</td>\n",
       "      <td>530</td>\n",
       "      <td>530</td>\n",
       "      <td>530</td>\n",
       "      <td>530</td>\n",
       "    </tr>\n",
       "    <tr>\n",
       "      <th>unique</th>\n",
       "      <td>2</td>\n",
       "      <td>4</td>\n",
       "      <td>1</td>\n",
       "      <td>2</td>\n",
       "      <td>2</td>\n",
       "      <td>2</td>\n",
       "      <td>2</td>\n",
       "      <td>3</td>\n",
       "      <td>2</td>\n",
       "      <td>3</td>\n",
       "      <td>3</td>\n",
       "      <td>2</td>\n",
       "      <td>2</td>\n",
       "      <td>3</td>\n",
       "    </tr>\n",
       "    <tr>\n",
       "      <th>top</th>\n",
       "      <td>Boy</td>\n",
       "      <td>11-15</td>\n",
       "      <td>School</td>\n",
       "      <td>Non Government</td>\n",
       "      <td>No</td>\n",
       "      <td>Yes</td>\n",
       "      <td>Low</td>\n",
       "      <td>Mid</td>\n",
       "      <td>Mobile Data</td>\n",
       "      <td>4G</td>\n",
       "      <td>1-3</td>\n",
       "      <td>No</td>\n",
       "      <td>Mobile</td>\n",
       "      <td>Moderate</td>\n",
       "    </tr>\n",
       "    <tr>\n",
       "      <th>freq</th>\n",
       "      <td>271</td>\n",
       "      <td>353</td>\n",
       "      <td>530</td>\n",
       "      <td>430</td>\n",
       "      <td>503</td>\n",
       "      <td>482</td>\n",
       "      <td>499</td>\n",
       "      <td>336</td>\n",
       "      <td>395</td>\n",
       "      <td>311</td>\n",
       "      <td>449</td>\n",
       "      <td>527</td>\n",
       "      <td>517</td>\n",
       "      <td>301</td>\n",
       "    </tr>\n",
       "  </tbody>\n",
       "</table>\n",
       "</div>"
      ],
      "text/plain": [
       "       Gender    Age Education Level Institution Type IT Student Location  \\\n",
       "count     530    530             530              530        530      530   \n",
       "unique      2      4               1                2          2        2   \n",
       "top       Boy  11-15          School   Non Government         No      Yes   \n",
       "freq      271    353             530              430        503      482   \n",
       "\n",
       "       Load-shedding Financial Condition Internet Type Network Type  \\\n",
       "count            530                 530           530          530   \n",
       "unique             2                   3             2            3   \n",
       "top              Low                 Mid   Mobile Data           4G   \n",
       "freq             499                 336           395          311   \n",
       "\n",
       "       Class Duration Self Lms  Device Adaptivity Level  \n",
       "count             530      530     530              530  \n",
       "unique              3        2       2                3  \n",
       "top               1-3       No  Mobile         Moderate  \n",
       "freq              449      527     517              301  "
      ]
     },
     "execution_count": 14,
     "metadata": {},
     "output_type": "execute_result"
    }
   ],
   "source": [
    "School.describe()"
   ]
  },
  {
   "cell_type": "markdown",
   "id": "dadac698",
   "metadata": {},
   "source": [
    "# "
   ]
  },
  {
   "cell_type": "markdown",
   "id": "06542671",
   "metadata": {},
   "source": [
    "# "
   ]
  },
  {
   "cell_type": "markdown",
   "id": "49dc8956",
   "metadata": {},
   "source": [
    "#### Class Duration Based on Education Level"
   ]
  },
  {
   "cell_type": "markdown",
   "id": "50bf417e",
   "metadata": {},
   "source": [
    "University Level Education"
   ]
  },
  {
   "cell_type": "code",
   "execution_count": 15,
   "id": "81bfdabc",
   "metadata": {},
   "outputs": [
    {
     "data": {
      "text/plain": [
       "<AxesSubplot:xlabel='Class Duration', ylabel='count'>"
      ]
     },
     "execution_count": 15,
     "metadata": {},
     "output_type": "execute_result"
    },
    {
     "data": {
      "image/png": "[encoded data removed]",
      "text/plain": [
       "<Figure size 432x288 with 1 Axes>"
      ]
     },
     "metadata": {
      "needs_background": "light"
     },
     "output_type": "display_data"
    }
   ],
   "source": [
    "sns.countplot(\"Class Duration\", data=University, order=['0', '1-3', '3-6'])"
   ]
  },
  {
   "cell_type": "code",
   "execution_count": 16,
   "id": "93e4e664",
   "metadata": {},
   "outputs": [
    {
     "data": {
      "text/plain": [
       "([<matplotlib.patches.Wedge at 0x25cc01f3820>,\n",
       "  <matplotlib.patches.Wedge at 0x25cc0204220>,\n",
       "  <matplotlib.patches.Wedge at 0x25cc0204bb0>],\n",
       " [Text(-0.4349144301457011, 1.0103709410167339, '0'),\n",
       "  Text(-0.6815983089842456, -0.863379259184408, '1-3'),\n",
       "  Text(0.9674210876290683, 0.5235422038485443, '3-6')],\n",
       " [Text(-0.23722605280674602, 0.5511114223727639, '12.9%'),\n",
       "  Text(-0.37178089580958845, -0.4709341413733134, '52.9%'),\n",
       "  Text(0.5276842296158554, 0.2855684748264787, '34.2%')])"
      ]
     },
     "execution_count": 16,
     "metadata": {},
     "output_type": "execute_result"
    },
    {
     "data": {
      "image/png": "[encoded data removed]",
      "text/plain": [
       "<Figure size 432x288 with 1 Axes>"
      ]
     },
     "metadata": {},
     "output_type": "display_data"
    }
   ],
   "source": [
    "U_CD = University['Class Duration'].value_counts().sort_index(ascending = True)\n",
    "U_CD_lab = '0', '1-3', '3-6'\n",
    "\n",
    "plt.pie(U_CD, labels = U_CD_lab, startangle = 90, autopct='%1.1f%%', shadow=True)"
   ]
  },
  {
   "cell_type": "markdown",
   "id": "75b7c569",
   "metadata": {},
   "source": [
    "College Education Level"
   ]
  },
  {
   "cell_type": "code",
   "execution_count": 17,
   "id": "26bb5ad2",
   "metadata": {},
   "outputs": [
    {
     "data": {
      "text/plain": [
       "<AxesSubplot:xlabel='Class Duration', ylabel='count'>"
      ]
     },
     "execution_count": 17,
     "metadata": {},
     "output_type": "execute_result"
    },
    {
     "data": {
      "image/png": "[encoded data removed]",
      "text/plain": [
       "<Figure size 432x288 with 1 Axes>"
      ]
     },
     "metadata": {
      "needs_background": "light"
     },
     "output_type": "display_data"
    }
   ],
   "source": [
    "sns.countplot(\"Class Duration\", data=College, order=['0', '1-3', '3-6'])"
   ]
  },
  {
   "cell_type": "code",
   "execution_count": 18,
   "id": "2a97b809",
   "metadata": {},
   "outputs": [
    {
     "data": {
      "text/plain": [
       "([<matplotlib.patches.Wedge at 0x25cc02c46a0>,\n",
       "  <matplotlib.patches.Wedge at 0x25cc02d5070>,\n",
       "  <matplotlib.patches.Wedge at 0x25cc02d59a0>],\n",
       " [Text(-0.4349144301457011, 1.0103709410167339, '0'),\n",
       "  Text(-0.6815983089842456, -0.863379259184408, '1-3'),\n",
       "  Text(0.9674210876290683, 0.5235422038485443, '3-6')],\n",
       " [Text(-0.23722605280674602, 0.5511114223727639, '12.9%'),\n",
       "  Text(-0.37178089580958845, -0.4709341413733134, '52.9%'),\n",
       "  Text(0.5276842296158554, 0.2855684748264787, '34.2%')])"
      ]
     },
     "execution_count": 18,
     "metadata": {},
     "output_type": "execute_result"
    },
    {
     "data": {
      "image/png": "[encoded data removed]",
      "text/plain": [
       "<Figure size 432x288 with 1 Axes>"
      ]
     },
     "metadata": {},
     "output_type": "display_data"
    }
   ],
   "source": [
    "C_CD = University['Class Duration'].value_counts().sort_index(ascending = True)\n",
    "C_CD_lab = '0', '1-3', '3-6'\n",
    "\n",
    "plt.pie(C_CD, labels = C_CD_lab, startangle = 90, autopct='%1.1f%%', shadow=True)"
   ]
  },
  {
   "cell_type": "markdown",
   "id": "9dd168fe",
   "metadata": {},
   "source": [
    "School Education Level"
   ]
  },
  {
   "cell_type": "code",
   "execution_count": 19,
   "id": "33a3d1e1",
   "metadata": {},
   "outputs": [
    {
     "data": {
      "text/plain": [
       "<AxesSubplot:xlabel='Class Duration', ylabel='count'>"
      ]
     },
     "execution_count": 19,
     "metadata": {},
     "output_type": "execute_result"
    },
    {
     "data": {
      "image/png": "[encoded data removed]",
      "text/plain": [
       "<Figure size 432x288 with 1 Axes>"
      ]
     },
     "metadata": {
      "needs_background": "light"
     },
     "output_type": "display_data"
    }
   ],
   "source": [
    "sns.countplot(\"Class Duration\", data=School, order=['0', '1-3', '3-6'])"
   ]
  },
  {
   "cell_type": "code",
   "execution_count": 20,
   "id": "9d213dbb",
   "metadata": {},
   "outputs": [
    {
     "data": {
      "text/plain": [
       "([<matplotlib.patches.Wedge at 0x25cc0372a90>,\n",
       "  <matplotlib.patches.Wedge at 0x25cc0381490>,\n",
       "  <matplotlib.patches.Wedge at 0x25cc0381e20>],\n",
       " [Text(-0.4073608369191663, 1.021791147223598, '0'),\n",
       "  Text(0.3025046435234673, -1.05758732057771, '1-3'),\n",
       "  Text(0.11065732827354888, 1.0944199174445612, '3-6')],\n",
       " [Text(-0.22219682013772704, 0.5573406257583262, '12.1%'),\n",
       "  Text(0.16500253283098212, -0.5768658112242054, '84.7%'),\n",
       "  Text(0.060358542694663016, 0.5969563186061242, '3.2%')])"
      ]
     },
     "execution_count": 20,
     "metadata": {},
     "output_type": "execute_result"
    },
    {
     "data": {
      "image/png": "[encoded data removed]",
      "text/plain": [
       "<Figure size 432x288 with 1 Axes>"
      ]
     },
     "metadata": {},
     "output_type": "display_data"
    }
   ],
   "source": [
    "S_CD = School['Class Duration'].value_counts().sort_index(ascending = True)\n",
    "S_CD_lab = '0', '1-3', '3-6'\n",
    "\n",
    "plt.pie(S_CD, labels = S_CD_lab, startangle = 90, autopct='%1.1f%%', shadow=True)"
   ]
  },
  {
   "cell_type": "markdown",
   "id": "2c06ff8b",
   "metadata": {},
   "source": [
    "# "
   ]
  },
  {
   "cell_type": "markdown",
   "id": "2cf2e654",
   "metadata": {},
   "source": [
    "#### Based on Institution Type, Do Students Learn Independently?"
   ]
  },
  {
   "cell_type": "markdown",
   "id": "4540a2ce",
   "metadata": {},
   "source": [
    "At University Education Level"
   ]
  },
  {
   "cell_type": "code",
   "execution_count": 21,
   "id": "95d67968",
   "metadata": {},
   "outputs": [
    {
     "data": {
      "text/plain": [
       "<AxesSubplot:xlabel='Self Lms', ylabel='count'>"
      ]
     },
     "execution_count": 21,
     "metadata": {},
     "output_type": "execute_result"
    },
    {
     "data": {
      "image/png": "[encoded data removed]",
      "text/plain": [
       "<Figure size 432x288 with 1 Axes>"
      ]
     },
     "metadata": {
      "needs_background": "light"
     },
     "output_type": "display_data"
    }
   ],
   "source": [
    "sns.countplot(\"Self Lms\", data=University, order=['Yes', 'No'])"
   ]
  },
  {
   "cell_type": "code",
   "execution_count": 22,
   "id": "f98e2f2c",
   "metadata": {},
   "outputs": [
    {
     "data": {
      "text/plain": [
       "([<matplotlib.patches.Wedge at 0x25cc041fd60>,\n",
       "  <matplotlib.patches.Wedge at 0x25cc042e730>],\n",
       " [Text(-1.035378953007736, 0.37147062288773847, 'Yes'),\n",
       "  Text(1.035378953007736, -0.371470622887739, 'No')],\n",
       " [Text(-0.5647521561860378, 0.20262033975694824, '39.0%'),\n",
       "  Text(0.5647521561860377, -0.20262033975694854, '61.0%')])"
      ]
     },
     "execution_count": 22,
     "metadata": {},
     "output_type": "execute_result"
    },
    {
     "data": {
      "image/png": "[encoded data removed]",
      "text/plain": [
       "<Figure size 432x288 with 1 Axes>"
      ]
     },
     "metadata": {},
     "output_type": "display_data"
    }
   ],
   "source": [
    "U_SL = University['Self Lms'].value_counts().sort_index(ascending = False)\n",
    "U_lab = 'Yes', 'No'\n",
    "\n",
    "plt.pie(U_SL, labels = U_lab, startangle = 90, autopct='%1.1f%%', shadow=True)"
   ]
  },
  {
   "cell_type": "markdown",
   "id": "2020c1f2",
   "metadata": {},
   "source": [
    "At College Education Level"
   ]
  },
  {
   "cell_type": "code",
   "execution_count": 23,
   "id": "a813ffc7",
   "metadata": {},
   "outputs": [
    {
     "data": {
      "text/plain": [
       "<AxesSubplot:xlabel='Self Lms', ylabel='count'>"
      ]
     },
     "execution_count": 23,
     "metadata": {},
     "output_type": "execute_result"
    },
    {
     "data": {
      "image/png": "[encoded data removed]",
      "text/plain": [
       "<Figure size 432x288 with 1 Axes>"
      ]
     },
     "metadata": {
      "needs_background": "light"
     },
     "output_type": "display_data"
    }
   ],
   "source": [
    "sns.countplot(\"Self Lms\", data=College, order=['Yes', 'No'])"
   ]
  },
  {
   "cell_type": "code",
   "execution_count": 24,
   "id": "f5684f7b",
   "metadata": {},
   "outputs": [
    {
     "data": {
      "text/plain": [
       "([<matplotlib.patches.Wedge at 0x25cc04d8100>,\n",
       "  <matplotlib.patches.Wedge at 0x25cc04d8a90>],\n",
       " [Text(-0.44452538200932434, 1.0061794992691238, 'Yes'),\n",
       "  Text(0.4445254762146458, -1.0061794576496494, 'No')],\n",
       " [Text(-0.24246839018690416, 0.548825181419522, '13.2%'),\n",
       "  Text(0.24246844157162495, -0.5488251587179905, '86.8%')])"
      ]
     },
     "execution_count": 24,
     "metadata": {},
     "output_type": "execute_result"
    },
    {
     "data": {
      "image/png": "[encoded data removed]",
      "text/plain": [
       "<Figure size 432x288 with 1 Axes>"
      ]
     },
     "metadata": {},
     "output_type": "display_data"
    }
   ],
   "source": [
    "C_SL = College['Self Lms'].value_counts().sort_index(ascending = False)\n",
    "C_lab = 'Yes', 'No'\n",
    "\n",
    "plt.pie(C_SL, labels = C_lab, startangle = 90, autopct='%1.1f%%', shadow=True)"
   ]
  },
  {
   "cell_type": "markdown",
   "id": "d86862a7",
   "metadata": {},
   "source": [
    "At School Education Level"
   ]
  },
  {
   "cell_type": "code",
   "execution_count": 25,
   "id": "12b46be1",
   "metadata": {},
   "outputs": [
    {
     "data": {
      "text/plain": [
       "<AxesSubplot:xlabel='Self Lms', ylabel='count'>"
      ]
     },
     "execution_count": 25,
     "metadata": {},
     "output_type": "execute_result"
    },
    {
     "data": {
      "image/png": "[encoded data removed]",
      "text/plain": [
       "<Figure size 432x288 with 1 Axes>"
      ]
     },
     "metadata": {
      "needs_background": "light"
     },
     "output_type": "display_data"
    }
   ],
   "source": [
    "sns.countplot(\"Self Lms\", data=School, order=['Yes', 'No'])"
   ]
  },
  {
   "cell_type": "code",
   "execution_count": 26,
   "id": "3b4dc37c",
   "metadata": {},
   "outputs": [
    {
     "data": {
      "text/plain": [
       "([<matplotlib.patches.Wedge at 0x25cc05729a0>,\n",
       "  <matplotlib.patches.Wedge at 0x25cc0583310>],\n",
       " [Text(-0.019559829300986493, 1.0998260831048319, 'Yes'),\n",
       "  Text(0.019559906530848634, -1.0998260817313366, 'No')],\n",
       " [Text(-0.010668997800538085, 0.5999051362389991, '0.6%'),\n",
       "  Text(0.010669039925917435, -0.5999051354898198, '99.4%')])"
      ]
     },
     "execution_count": 26,
     "metadata": {},
     "output_type": "execute_result"
    },
    {
     "data": {
      "image/png": "[encoded data removed]",
      "text/plain": [
       "<Figure size 432x288 with 1 Axes>"
      ]
     },
     "metadata": {},
     "output_type": "display_data"
    }
   ],
   "source": [
    "S_SL = School['Self Lms'].value_counts().sort_index(ascending = False)\n",
    "S_lab = 'Yes', 'No'\n",
    "\n",
    "plt.pie(S_SL, labels = S_lab, startangle = 90, autopct='%1.1f%%', shadow=True)"
   ]
  },
  {
   "cell_type": "markdown",
   "id": "11f2178e",
   "metadata": {},
   "source": [
    "# "
   ]
  },
  {
   "cell_type": "markdown",
   "id": "a2ce2b01",
   "metadata": {},
   "source": [
    "#### How Much Class Duration In Each Institution Type?"
   ]
  },
  {
   "cell_type": "markdown",
   "id": "8a06bbc5",
   "metadata": {},
   "source": [
    "At Government Institution"
   ]
  },
  {
   "cell_type": "code",
   "execution_count": 27,
   "id": "0eed6c42",
   "metadata": {},
   "outputs": [],
   "source": [
    "Government = df[df['Institution Type'] == 'Government']"
   ]
  },
  {
   "cell_type": "code",
   "execution_count": 28,
   "id": "e48c3b21",
   "metadata": {},
   "outputs": [
    {
     "data": {
      "text/plain": [
       "<AxesSubplot:xlabel='Class Duration', ylabel='count'>"
      ]
     },
     "execution_count": 28,
     "metadata": {},
     "output_type": "execute_result"
    },
    {
     "data": {
      "image/png": "[encoded data removed]",
      "text/plain": [
       "<Figure size 432x288 with 1 Axes>"
      ]
     },
     "metadata": {
      "needs_background": "light"
     },
     "output_type": "display_data"
    }
   ],
   "source": [
    "sns.countplot(\"Class Duration\", data=Government, order=['0', '1-3', '3-6'])"
   ]
  },
  {
   "cell_type": "code",
   "execution_count": 29,
   "id": "a62fab1b",
   "metadata": {},
   "outputs": [
    {
     "data": {
      "text/plain": [
       "([<matplotlib.patches.Wedge at 0x25cc061eb50>,\n",
       "  <matplotlib.patches.Wedge at 0x25cc062d520>,\n",
       "  <matplotlib.patches.Wedge at 0x25cc062deb0>],\n",
       " [Text(-0.8535305656680086, 0.693891615074321, '0'),\n",
       "  Text(0.7351467219057927, -0.8182660308672035, '1-3'),\n",
       "  Text(0.17118460172579505, 1.0865982846167122, '3-6')],\n",
       " [Text(-0.4655621267280046, 0.3784863354950841, '28.3%'),\n",
       "  Text(0.4009891210395233, -0.4463269259275655, '66.8%'),\n",
       "  Text(0.09337341912316094, 0.5926899734272975, '5.0%')])"
      ]
     },
     "execution_count": 29,
     "metadata": {},
     "output_type": "execute_result"
    },
    {
     "data": {
      "image/png": "[encoded data removed]",
      "text/plain": [
       "<Figure size 432x288 with 1 Axes>"
      ]
     },
     "metadata": {},
     "output_type": "display_data"
    }
   ],
   "source": [
    "G_SL = Government['Class Duration'].value_counts().sort_index(ascending = True)\n",
    "G_lab = '0', '1-3', '3-6'\n",
    "\n",
    "plt.pie(G_SL, labels = G_lab, startangle = 90, autopct='%1.1f%%', shadow=True)"
   ]
  },
  {
   "cell_type": "markdown",
   "id": "c79e93a5",
   "metadata": {},
   "source": [
    "At Non Government Institution"
   ]
  },
  {
   "cell_type": "code",
   "execution_count": 30,
   "id": "78166e9a",
   "metadata": {},
   "outputs": [],
   "source": [
    "NonGovernment = df[df['Institution Type'] == 'Non Government']"
   ]
  },
  {
   "cell_type": "code",
   "execution_count": 31,
   "id": "bd30302d",
   "metadata": {},
   "outputs": [
    {
     "data": {
      "text/plain": [
       "<AxesSubplot:xlabel='Class Duration', ylabel='count'>"
      ]
     },
     "execution_count": 31,
     "metadata": {},
     "output_type": "execute_result"
    },
    {
     "data": {
      "image/png": "[encoded data removed]",
      "text/plain": [
       "<Figure size 432x288 with 1 Axes>"
      ]
     },
     "metadata": {
      "needs_background": "light"
     },
     "output_type": "display_data"
    }
   ],
   "source": [
    "sns.countplot(\"Class Duration\", data=NonGovernment, order=['0', '1-3', '3-6'])"
   ]
  },
  {
   "cell_type": "code",
   "execution_count": 32,
   "id": "c5f04dea",
   "metadata": {},
   "outputs": [
    {
     "data": {
      "text/plain": [
       "([<matplotlib.patches.Wedge at 0x25cc06d5c40>,\n",
       "  <matplotlib.patches.Wedge at 0x25cc06e3610>,\n",
       "  <matplotlib.patches.Wedge at 0x25cc06e3fd0>],\n",
       " [Text(-0.19216155036978927, 1.0830853791643018, '0'),\n",
       "  Text(-0.5818028627819447, -0.9335445510840572, '1-3'),\n",
       "  Text(0.7359395171238465, 0.8175530729778463, '3-6')],\n",
       " [Text(-0.10481539111079413, 0.5907738431805282, '5.6%'),\n",
       "  Text(-0.3173470160628789, -0.509206118773122, '71.1%'),\n",
       "  Text(0.4014215547948254, 0.4459380398060979, '23.3%')])"
      ]
     },
     "execution_count": 32,
     "metadata": {},
     "output_type": "execute_result"
    },
    {
     "data": {
      "image/png": "[encoded data removed]",
      "text/plain": [
       "<Figure size 432x288 with 1 Axes>"
      ]
     },
     "metadata": {},
     "output_type": "display_data"
    }
   ],
   "source": [
    "NG_SL = NonGovernment['Class Duration'].value_counts().sort_index(ascending = True)\n",
    "NG_lab = '0', '1-3', '3-6'\n",
    "\n",
    "plt.pie(NG_SL, labels = NG_lab, startangle = 90, autopct='%1.1f%%', shadow=True,)"
   ]
  },
  {
   "cell_type": "markdown",
   "id": "f45c6de5",
   "metadata": {},
   "source": [
    "# "
   ]
  },
  {
   "cell_type": "markdown",
   "id": "ce4a3e82",
   "metadata": {},
   "source": [
    "#### Based on Device, Do Students Learn Independently?"
   ]
  },
  {
   "cell_type": "code",
   "execution_count": 33,
   "id": "58b1ad2b",
   "metadata": {},
   "outputs": [
    {
     "data": {
      "text/plain": [
       "Mobile      1013\n",
       "Computer     162\n",
       "Tab           30\n",
       "Name: Device, dtype: int64"
      ]
     },
     "execution_count": 33,
     "metadata": {},
     "output_type": "execute_result"
    }
   ],
   "source": [
    "df['Device'].value_counts()"
   ]
  },
  {
   "cell_type": "code",
   "execution_count": 34,
   "id": "acda2255",
   "metadata": {},
   "outputs": [],
   "source": [
    "Mobile = df[df['Device'] == 'Mobile']\n",
    "Computer = df[df['Device'] == 'Computer']\n",
    "Tab = df[df['Device'] == 'Tab']"
   ]
  },
  {
   "cell_type": "code",
   "execution_count": 35,
   "id": "c54ec268",
   "metadata": {},
   "outputs": [
    {
     "data": {
      "text/plain": [
       "No     995\n",
       "Yes    210\n",
       "Name: Self Lms, dtype: int64"
      ]
     },
     "execution_count": 35,
     "metadata": {},
     "output_type": "execute_result"
    }
   ],
   "source": [
    "df['Self Lms'].value_counts()"
   ]
  },
  {
   "cell_type": "code",
   "execution_count": 36,
   "id": "441708d0",
   "metadata": {},
   "outputs": [
    {
     "data": {
      "text/plain": [
       "([<matplotlib.patches.Wedge at 0x25cc072bd60>,\n",
       "  <matplotlib.patches.Wedge at 0x25cc0735610>],\n",
       " [Text(-0.5726073128389577, -0.9392128966764395, 'Yes'),\n",
       "  Text(0.5726072688712288, 0.939212923482121, 'No')],\n",
       " [Text(-0.31233126154852237, -0.5122979436416942, '82.6%'),\n",
       "  Text(0.31233123756612474, 0.5122979582629751, '17.4%')])"
      ]
     },
     "execution_count": 36,
     "metadata": {},
     "output_type": "execute_result"
    },
    {
     "data": {
      "image/png": "[encoded data removed]",
      "text/plain": [
       "<Figure size 432x288 with 1 Axes>"
      ]
     },
     "metadata": {},
     "output_type": "display_data"
    }
   ],
   "source": [
    "SL = df['Self Lms'].value_counts().sort_index(ascending = True)\n",
    "lab = 'Yes', 'No'\n",
    "\n",
    "plt.pie(SL, labels = lab, startangle = 90, autopct='%1.1f%%', shadow=True)"
   ]
  },
  {
   "cell_type": "markdown",
   "id": "eed045b7",
   "metadata": {},
   "source": [
    "# "
   ]
  },
  {
   "cell_type": "code",
   "execution_count": 37,
   "id": "1b937cc5",
   "metadata": {},
   "outputs": [
    {
     "data": {
      "text/plain": [
       "No     877\n",
       "Yes    136\n",
       "Name: Self Lms, dtype: int64"
      ]
     },
     "execution_count": 37,
     "metadata": {},
     "output_type": "execute_result"
    }
   ],
   "source": [
    "Mobile['Self Lms'].value_counts()"
   ]
  },
  {
   "cell_type": "code",
   "execution_count": 38,
   "id": "64683a1c",
   "metadata": {},
   "outputs": [
    {
     "data": {
      "text/plain": [
       "([<matplotlib.patches.Wedge at 0x25cc0773eb0>,\n",
       "  <matplotlib.patches.Wedge at 0x25cc0780880>],\n",
       " [Text(-0.45031715215012513, -1.0036007485446596, 'Yes'),\n",
       "  Text(0.45031715215012524, 1.0036007485446596, 'No')],\n",
       " [Text(-0.24562753753643185, -0.5474185901152688, '86.6%'),\n",
       "  Text(0.24562753753643193, 0.5474185901152688, '13.4%')])"
      ]
     },
     "execution_count": 38,
     "metadata": {},
     "output_type": "execute_result"
    },
    {
     "data": {
      "image/png": "[encoded data removed]",
      "text/plain": [
       "<Figure size 432x288 with 1 Axes>"
      ]
     },
     "metadata": {},
     "output_type": "display_data"
    }
   ],
   "source": [
    "M_SL = Mobile['Self Lms'].value_counts().sort_index(ascending = True)\n",
    "M_lab = 'Yes', 'No'\n",
    "\n",
    "plt.pie(M_SL, labels = M_lab, startangle = 90, autopct='%1.1f%%', shadow=True)"
   ]
  },
  {
   "cell_type": "code",
   "execution_count": 39,
   "id": "4716c3d0",
   "metadata": {},
   "outputs": [
    {
     "data": {
      "text/plain": [
       "No     95\n",
       "Yes    67\n",
       "Name: Self Lms, dtype: int64"
      ]
     },
     "execution_count": 39,
     "metadata": {},
     "output_type": "execute_result"
    }
   ],
   "source": [
    "Computer['Self Lms'].value_counts()"
   ]
  },
  {
   "cell_type": "code",
   "execution_count": 40,
   "id": "abd6ebdd",
   "metadata": {},
   "outputs": [
    {
     "data": {
      "text/plain": [
       "([<matplotlib.patches.Wedge at 0x25cc1795b80>,\n",
       "  <matplotlib.patches.Wedge at 0x25cc17a4550>],\n",
       " [Text(-1.059707958976026, -0.2949899009845337, 'Yes'),\n",
       "  Text(1.0597079589760263, 0.2949899009845331, 'No')],\n",
       " [Text(-0.5780225230778324, -0.16090358235520016, '58.6%'),\n",
       "  Text(0.5780225230778324, 0.16090358235519983, '41.4%')])"
      ]
     },
     "execution_count": 40,
     "metadata": {},
     "output_type": "execute_result"
    },
    {
     "data": {
      "image/png": "[encoded data removed]",
      "text/plain": [
       "<Figure size 432x288 with 1 Axes>"
      ]
     },
     "metadata": {},
     "output_type": "display_data"
    }
   ],
   "source": [
    "C_SL = Computer['Self Lms'].value_counts().sort_index(ascending = True)\n",
    "C_lab = 'Yes', 'No'\n",
    "\n",
    "plt.pie(C_SL, labels = C_lab, startangle = 90, autopct='%1.1f%%', shadow=True)"
   ]
  },
  {
   "cell_type": "code",
   "execution_count": 41,
   "id": "cb1fb5bf",
   "metadata": {},
   "outputs": [
    {
     "data": {
      "text/plain": [
       "No     23\n",
       "Yes     7\n",
       "Name: Self Lms, dtype: int64"
      ]
     },
     "execution_count": 41,
     "metadata": {},
     "output_type": "execute_result"
    }
   ],
   "source": [
    "Tab['Self Lms'].value_counts()"
   ]
  },
  {
   "cell_type": "code",
   "execution_count": 42,
   "id": "a3461b8b",
   "metadata": {},
   "outputs": [
    {
     "data": {
      "text/plain": [
       "([<matplotlib.patches.Wedge at 0x25cc17e8ac0>,\n",
       "  <matplotlib.patches.Wedge at 0x25cc17f9490>],\n",
       " [Text(-0.7360437078139777, -0.8174592712713289, 'Yes'),\n",
       "  Text(0.7360437460820067, 0.8174592368146356, 'No')],\n",
       " [Text(-0.4014783860803514, -0.44588687523890663, '76.7%'),\n",
       "  Text(0.4014784069538218, 0.44588685644434667, '23.3%')])"
      ]
     },
     "execution_count": 42,
     "metadata": {},
     "output_type": "execute_result"
    },
    {
     "data": {
      "image/png": "[encoded data removed]",
      "text/plain": [
       "<Figure size 432x288 with 1 Axes>"
      ]
     },
     "metadata": {},
     "output_type": "display_data"
    }
   ],
   "source": [
    "T_SL = Tab['Self Lms'].value_counts().sort_index(ascending = True)\n",
    "T_lab = 'Yes', 'No'\n",
    "\n",
    "plt.pie(T_SL, labels = T_lab, startangle = 90, autopct='%1.1f%%', shadow=True)"
   ]
  },
  {
   "cell_type": "markdown",
   "id": "0bafedfb",
   "metadata": {},
   "source": [
    "# "
   ]
  },
  {
   "cell_type": "markdown",
   "id": "44e80486",
   "metadata": {},
   "source": [
    "#### How Much Class Duration In Each Device?"
   ]
  },
  {
   "cell_type": "markdown",
   "id": "1cfce2de",
   "metadata": {},
   "source": [
    "Mobile Device"
   ]
  },
  {
   "cell_type": "code",
   "execution_count": 43,
   "id": "2c332d05",
   "metadata": {},
   "outputs": [
    {
     "data": {
      "text/plain": [
       "0      148\n",
       "1-3    750\n",
       "3-6    115\n",
       "Name: Class Duration, dtype: int64"
      ]
     },
     "execution_count": 43,
     "metadata": {},
     "output_type": "execute_result"
    }
   ],
   "source": [
    "Mobile['Class Duration'].value_counts().sort_index(ascending = True)"
   ]
  },
  {
   "cell_type": "code",
   "execution_count": 44,
   "id": "b2f3d936",
   "metadata": {},
   "outputs": [
    {
     "data": {
      "text/plain": [
       "<AxesSubplot:xlabel='Class Duration', ylabel='count'>"
      ]
     },
     "execution_count": 44,
     "metadata": {},
     "output_type": "execute_result"
    },
    {
     "data": {
      "image/png": "[encoded data removed]",
      "text/plain": [
       "<Figure size 432x288 with 1 Axes>"
      ]
     },
     "metadata": {
      "needs_background": "light"
     },
     "output_type": "display_data"
    }
   ],
   "source": [
    "sns.countplot(\"Class Duration\", data=Mobile, order=['0', '1-3', '3-6'])"
   ]
  },
  {
   "cell_type": "markdown",
   "id": "6e3978fc",
   "metadata": {},
   "source": [
    "Computer Device"
   ]
  },
  {
   "cell_type": "code",
   "execution_count": 45,
   "id": "0dad181b",
   "metadata": {},
   "outputs": [
    {
     "data": {
      "text/plain": [
       "0       6\n",
       "1-3    85\n",
       "3-6    71\n",
       "Name: Class Duration, dtype: int64"
      ]
     },
     "execution_count": 45,
     "metadata": {},
     "output_type": "execute_result"
    }
   ],
   "source": [
    "Computer['Class Duration'].value_counts().sort_index(ascending = True)"
   ]
  },
  {
   "cell_type": "code",
   "execution_count": 46,
   "id": "165ae24c",
   "metadata": {},
   "outputs": [
    {
     "data": {
      "text/plain": [
       "<AxesSubplot:xlabel='Class Duration', ylabel='count'>"
      ]
     },
     "execution_count": 46,
     "metadata": {},
     "output_type": "execute_result"
    },
    {
     "data": {
      "image/png": "[encoded data removed]",
      "text/plain": [
       "<Figure size 432x288 with 1 Axes>"
      ]
     },
     "metadata": {
      "needs_background": "light"
     },
     "output_type": "display_data"
    }
   ],
   "source": [
    "sns.countplot(\"Class Duration\", data=Computer, order=['0', '1-3', '3-6'])"
   ]
  },
  {
   "cell_type": "markdown",
   "id": "3401d40e",
   "metadata": {},
   "source": [
    "Tab Device"
   ]
  },
  {
   "cell_type": "code",
   "execution_count": 47,
   "id": "873146c6",
   "metadata": {},
   "outputs": [
    {
     "data": {
      "text/plain": [
       "1-3     5\n",
       "3-6    25\n",
       "Name: Class Duration, dtype: int64"
      ]
     },
     "execution_count": 47,
     "metadata": {},
     "output_type": "execute_result"
    }
   ],
   "source": [
    "Tab['Class Duration'].value_counts().sort_index(ascending = True)"
   ]
  },
  {
   "cell_type": "code",
   "execution_count": 48,
   "id": "4cc20d87",
   "metadata": {},
   "outputs": [
    {
     "data": {
      "text/plain": [
       "<AxesSubplot:xlabel='Class Duration', ylabel='count'>"
      ]
     },
     "execution_count": 48,
     "metadata": {},
     "output_type": "execute_result"
    },
    {
     "data": {
      "image/png": "[encoded data removed]",
      "text/plain": [
       "<Figure size 432x288 with 1 Axes>"
      ]
     },
     "metadata": {
      "needs_background": "light"
     },
     "output_type": "display_data"
    }
   ],
   "source": [
    "sns.countplot(\"Class Duration\", data=Tab, order=['0', '1-3', '3-6'])"
   ]
  },
  {
   "cell_type": "code",
   "execution_count": null,
   "id": "2a10ebfb",
   "metadata": {},
   "outputs": [],
   "source": []
  }
 ],
 "metadata": {
  "kernelspec": {
   "display_name": "Python 3 (ipykernel)",
   "language": "python",
   "name": "python3"
  },
  "language_info": {
   "codemirror_mode": {
    "name": "ipython",
    "version": 3
   },
   "file_extension": ".py",
   "mimetype": "text/x-python",
   "name": "python",
   "nbconvert_exporter": "python",
   "pygments_lexer": "ipython3",
   "version": "3.8.2"
  }
 },
 "nbformat": 4,
 "nbformat_minor": 5
}
